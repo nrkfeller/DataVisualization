{
 "cells": [
  {
   "cell_type": "markdown",
   "metadata": {},
   "source": [
    "###Important concepts\n",
    "Product of sequences: reverse ranged factorial\n",
    "\n",
    "Argument of the Maximum: The inputs that gives the maximum outputs. the x where f(x) is the largest"
   ]
  },
  {
   "cell_type": "markdown",
   "metadata": {},
   "source": [
    "##Bayes Theorem\n",
    "The probability of an event based on events related to that event\n",
    "P(A|B) : probability of A given that B already happened\n",
    "\n",
    "1% of women have breast cancer, 80% of tests are true positives, 9.6% of tests are false positives\n",
    "\n",
    "|               | Cancer(1%) | No Cancer(99%) |\n",
    "|---------------|:----------:|--------------:|\n",
    "| Positive test |    80%     |     9.6%      |\n",
    "| Ngative test  |    20%     |     90.4%     |\n",
    "\n",
    "\n",
    "Lets say you tested positive:\n",
    "    How many people have tested positive on 100%\n",
    "    1%*80% + 99%+9.6% = 10.31%\n",
    "    your actualy chance of having cancer you have a\n",
    "    0.8% / 10.34% = 7.8% chance of actually having cancer"
   ]
  },
  {
   "cell_type": "markdown",
   "metadata": {},
   "source": [
    "###Naive Bayes\n",
    "Fast, low storage, powerful\n",
    "\n",
    "Naive, because we have to assume that features are independent. This happens to be mostly false, but we need to make this assumption for this computation\n",
    "\n",
    "- Plug in class variable given your feature vector.\n",
    "- Assume independence, so what is the probability of having those features given that you are in a certain class. \n",
    "- Now compute the probability of having a single feature given that you are in a class. \n",
    "- Multiply all those probabilities together"
   ]
  },
  {
   "cell_type": "markdown",
   "metadata": {},
   "source": [
    "###Gaussian Naive bayes\n",
    "Assumes that data is distrubuted on a Gaussian distro. This can be implemented easily with scikit learn"
   ]
  },
  {
   "cell_type": "code",
   "execution_count": 1,
   "metadata": {
    "collapsed": true
   },
   "outputs": [],
   "source": [
    "import pandas as pd\n",
    "from pandas import Series,DataFrame\n",
    "import matplotlib.pyplot as plt\n",
    "import seaborn as sns\n",
    "from sklearn import datasets,metrics\n",
    "from sklearn.naive_bayes import GaussianNB"
   ]
  },
  {
   "cell_type": "code",
   "execution_count": 2,
   "metadata": {
    "collapsed": true
   },
   "outputs": [],
   "source": [
    "iris = datasets.load_iris()"
   ]
  },
  {
   "cell_type": "code",
   "execution_count": 3,
   "metadata": {
    "collapsed": true
   },
   "outputs": [],
   "source": [
    "# features and target\n",
    "x = iris.data\n",
    "y = iris.target"
   ]
  },
  {
   "cell_type": "code",
   "execution_count": 4,
   "metadata": {
    "collapsed": true
   },
   "outputs": [],
   "source": [
    "model = GaussianNB()"
   ]
  },
  {
   "cell_type": "code",
   "execution_count": 5,
   "metadata": {
    "collapsed": true
   },
   "outputs": [],
   "source": [
    "from sklearn.cross_validation import train_test_split\n",
    "xtrain, xtest, ytrain, ytest = train_test_split(x,y)"
   ]
  },
  {
   "cell_type": "code",
   "execution_count": 6,
   "metadata": {
    "collapsed": false
   },
   "outputs": [
    {
     "data": {
      "text/plain": [
       "GaussianNB()"
      ]
     },
     "execution_count": 6,
     "metadata": {},
     "output_type": "execute_result"
    }
   ],
   "source": [
    "model.fit(xtrain, ytrain)"
   ]
  },
  {
   "cell_type": "code",
   "execution_count": 9,
   "metadata": {
    "collapsed": false
   },
   "outputs": [],
   "source": [
    "predicted = model.predict(xtest)\n",
    "expected = ytest"
   ]
  },
  {
   "cell_type": "code",
   "execution_count": 11,
   "metadata": {
    "collapsed": false
   },
   "outputs": [
    {
     "name": "stdout",
     "output_type": "stream",
     "text": [
      "0.973684210526\n"
     ]
    }
   ],
   "source": [
    "print metrics.accuracy_score(expected, predicted)"
   ]
  },
  {
   "cell_type": "code",
   "execution_count": null,
   "metadata": {
    "collapsed": true
   },
   "outputs": [],
   "source": []
  }
 ],
 "metadata": {
  "kernelspec": {
   "display_name": "Python 2",
   "language": "python",
   "name": "python2"
  },
  "language_info": {
   "codemirror_mode": {
    "name": "ipython",
    "version": 2
   },
   "file_extension": ".py",
   "mimetype": "text/x-python",
   "name": "python",
   "nbconvert_exporter": "python",
   "pygments_lexer": "ipython2",
   "version": "2.7.10"
  }
 },
 "nbformat": 4,
 "nbformat_minor": 0
}
