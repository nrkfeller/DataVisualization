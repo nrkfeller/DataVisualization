{
 "cells": [
  {
   "cell_type": "markdown",
   "metadata": {},
   "source": [
    "##Setup Droplet in DigitalOcean\n",
    "1. Create Droplet\n",
    "\n",
    "2. Place Droplet IP in /etc/hosts\n",
    "        $ sudo vi /etc/hosts\n",
    "\n",
    "3. In terminal jump to docker image\n",
    "        $ ssh root@<name given to docker ip>\n",
    "\n",
    "4. Log in to Docker\n",
    "        :~# docker login\n",
    "5. Now you can run containers in your docker image\n",
    "        :~# docker run tudum/hello-world\n",
    "6. Now you can see that the docker container is running on port 80. docker ps checks for running servers. dockerps -a checks for all existing servers, running or not.\n",
    "        :~# docker ps\n",
    "7. To run the container on a locally visible port <any port>:80\n",
    "        :~# docker run -p 8080:80 tutum/hello-world\n",
    "8. Go to browser and check it out\n",
    "        docker.me:8080\n",
    "9. Since there are just to test that our docker works, kill processes by id\n",
    "        :~# docker rm 435ihodofofe7fo"
   ]
  },
  {
   "cell_type": "markdown",
   "metadata": {
    "collapsed": true
   },
   "source": [
    "##Run copies of Containers and load balance them\n",
    "1. Run containers, give it a name to make things convenient. -d means run in backgroud, --name is to assign name, -p is to tell which local port to run on. #dockerbecrazywithflags\n",
    "        :~# docker run -d --name webtest -p 8081:80 tutum/hello-world\n",
    "2. Run step 1 many times to have a few running, change name and port every time.\n",
    "3. Since we have assigned them name we can stop/start them by name\n",
    "        :~# docker stop test2\n",
    "4. Now you can load balance with Nginx or Apache!"
   ]
  },
  {
   "cell_type": "markdown",
   "metadata": {},
   "source": [
    "##Docker Image on production and development\n",
    "1. Setup nginx.conf file. Root - Caching - Routes etc\n",
    "        root /www | or whatever the index root should be\n",
    "2. Setup Dockerfile.\n",
    "        * FROM nginx\n",
    "        * RUN setup caching directory etc\n",
    "        * ADD directory for configuration file from nginx\n",
    "        * ADD source code to /www or whichever root you have\n",
    "        * EXPOSE 80 (not necessary)\n",
    "        * CMD nginx (not necessary)\n",
    "3. Build it!\n",
    "        :~# docker build -t username/applicationname .\n",
    "4. Run it!\n",
    "        :~# docker run -d -p 80:80 username/applicationname\n",
    "5. You can add IP to your hosts file as well\n",
    "6. You can run the npm \"live-server\" command to make sure you dont have to redeploy each time there is a change\n",
    "7. Save this guy on the dockerhub\n",
    "        docker push username/applicationname\n",
    "8. SSH into your digital ocean\n",
    "        ssh root@docker.me\n",
    "9. Run from dockerhub | in digital ocean\n",
    "        :~# docker run -p 80:80 -d --name test123 username/applicationname\n",
    "        \n",
    "** you dont have to install anything, because docker..."
   ]
  },
  {
   "cell_type": "code",
   "execution_count": null,
   "metadata": {
    "collapsed": true
   },
   "outputs": [],
   "source": []
  }
 ],
 "metadata": {
  "kernelspec": {
   "display_name": "Python 2",
   "language": "python",
   "name": "python2"
  },
  "language_info": {
   "codemirror_mode": {
    "name": "ipython",
    "version": 2
   },
   "file_extension": ".py",
   "mimetype": "text/x-python",
   "name": "python",
   "nbconvert_exporter": "python",
   "pygments_lexer": "ipython2",
   "version": "2.7.10"
  }
 },
 "nbformat": 4,
 "nbformat_minor": 0
}
