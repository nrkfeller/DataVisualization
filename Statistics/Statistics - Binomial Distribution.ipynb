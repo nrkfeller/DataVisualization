{
 "cells": [
  {
   "cell_type": "markdown",
   "metadata": {},
   "source": [
    "#Binomial Distro - Discrete prob distro"
   ]
  },
  {
   "cell_type": "markdown",
   "metadata": {},
   "source": [
    "\n",
    "We can classify this as a binomial experiment if the following conditions are met:\n",
    "\n",
    "1.) The process consists of a sequence of n trials.\n",
    "\n",
    "2.) Only two exclusive outcomes are possible for each trial (A success and a failure)\n",
    "\n",
    "3.) If the probability of a success is 'p' then the probability of failure is q=1-p\n",
    "\n",
    "4.) The trials are independent."
   ]
  },
  {
   "cell_type": "code",
   "execution_count": 1,
   "metadata": {
    "collapsed": false
   },
   "outputs": [
    {
     "name": "stdout",
     "output_type": "stream",
     "text": [
      " The probability of player A making 6 shots in an average game is 11.1% \n",
      " \n",
      "\n",
      " The probability of player B making 6 shots in an average game is 17.0% \n"
     ]
    }
   ],
   "source": [
    "# Set up player A\n",
    "\n",
    "# Probability of success for A\n",
    "p_A = .72\n",
    "# Number of shots for A\n",
    "n_A = 11\n",
    "\n",
    "# Make 6 shots\n",
    "k = 6\n",
    "\n",
    "# Now import scipy for combination\n",
    "import scipy.misc as sc\n",
    "\n",
    "# Set up C(n,k)\n",
    "comb_A = sc.comb(n_A,k)\n",
    "\n",
    "# Now put it together to get the probability!\n",
    "answer_A = comb_A * (p_A**k) * ((1-p_A)**(n_A-k))\n",
    "\n",
    "# Put the answer in percentage form!\n",
    "answer_A = 100*answer_A\n",
    "\n",
    "\n",
    "# Quickly repeat all steps for Player B\n",
    "p_B = .48\n",
    "n_B = 15\n",
    "comb_B = sc.comb(n_B,k)\n",
    "answer_B = 100 * comb_B * (p_B**k) * ((1-p_B)**(n_B-k))\n",
    "\n",
    "\n",
    "#Print Answers\n",
    "print ' The probability of player A making 6 shots in an average game is %1.1f%% ' %answer_A\n",
    "print ' \\n'\n",
    "print ' The probability of player B making 6 shots in an average game is %1.1f%% ' %answer_B"
   ]
  },
  {
   "cell_type": "code",
   "execution_count": 2,
   "metadata": {
    "collapsed": false
   },
   "outputs": [
    {
     "name": "stdout",
     "output_type": "stream",
     "text": [
      " \n",
      "\n",
      " The probability of player A making 9 shots in an average game is 22.4% \n",
      "\n",
      "\n",
      " The probability of player B making 9 shots in an average game is 13.4% \n",
      "\n",
      "\n"
     ]
    }
   ],
   "source": [
    "#Let's find out!\n",
    "\n",
    "#Set number of shots\n",
    "k = 9\n",
    "\n",
    "#Set new combinations\n",
    "comb_A = sc.comb(n_A,k)\n",
    "comb_B = sc.comb(n_B,k)\n",
    "\n",
    "# Everything else remains the same\n",
    "answer_A = 100 * comb_A * (p_A**k) * ((1-p_A)**(n_A-k))\n",
    "answer_B = 100 * comb_B * (p_B**k) * ((1-p_B)**(n_B-k))\n",
    "\n",
    "#Print Answers\n",
    "print ' \\n'\n",
    "print ' The probability of player A making 9 shots in an average game is %1.1f%% ' %answer_A\n",
    "print '\\n'\n",
    "print ' The probability of player B making 9 shots in an average game is %1.1f%% ' %answer_B\n",
    "print '\\n'\n"
   ]
  },
  {
   "cell_type": "code",
   "execution_count": 3,
   "metadata": {
    "collapsed": false
   },
   "outputs": [
    {
     "name": "stdout",
     "output_type": "stream",
     "text": [
      "\n",
      "\n",
      "Player A will make an average of 8 +/- 1 shots per game\n",
      "\n",
      "\n",
      "Player B will make an average of 7 +/- 2 shots per game\n",
      "\n",
      "\n",
      "NOTE: It's impossible to make a decimal of a shot so '%1.0f' was used to replace the float!\n"
     ]
    }
   ],
   "source": [
    "# Let's go ahead and plug in to the formulas.\n",
    "\n",
    "# Get the mean\n",
    "mu_A = n_A *p_A\n",
    "mu_B = n_B *p_B\n",
    "\n",
    "#Get the standard deviation\n",
    "sigma_A = ( n_A *p_A*(1-p_A) )**0.5\n",
    "sigma_B = ( n_B *p_B*(1-p_B) )**0.5\n",
    "\n",
    "# Now print results\n",
    "print '\\n'\n",
    "print 'Player A will make an average of %1.0f +/- %1.0f shots per game' %(mu_A,sigma_A)\n",
    "print '\\n'\n",
    "print 'Player B will make an average of %1.0f +/- %1.0f shots per game' %(mu_B,sigma_B)\n",
    "print '\\n'\n",
    "print \"NOTE: It's impossible to make a decimal of a shot so '%1.0f' was used to replace the float!\""
   ]
  },
  {
   "cell_type": "code",
   "execution_count": 4,
   "metadata": {
    "collapsed": false
   },
   "outputs": [
    {
     "name": "stdout",
     "output_type": "stream",
     "text": [
      "7.92\n",
      "1.48916083752\n"
     ]
    }
   ],
   "source": [
    "from scipy.stats import binom\n",
    "\n",
    "# We can get stats: Mean('m'), variance('v'), skew('s'), and/or kurtosis('k')\n",
    "mean,var= binom.stats(n_A,p_A)\n",
    "\n",
    "print mean\n",
    "print var**0.5"
   ]
  },
  {
   "cell_type": "code",
   "execution_count": 5,
   "metadata": {
    "collapsed": false
   },
   "outputs": [
    {
     "data": {
      "text/plain": [
       "array([ 0.00097656,  0.00976563,  0.04394531,  0.1171875 ,  0.20507813,\n",
       "        0.24609375,  0.20507813,  0.1171875 ,  0.04394531,  0.00976563,\n",
       "        0.00097656])"
      ]
     },
     "execution_count": 5,
     "metadata": {},
     "output_type": "execute_result"
    }
   ],
   "source": [
    "import numpy as np\n",
    "\n",
    "# Set up a new example, let's say n= 10 coin flips and p=0.5 for a fair coin.\n",
    "n=10\n",
    "p=0.5\n",
    "\n",
    "# Set up n success, remember indexing starts at 0, so use n+1\n",
    "x = range(n+1)\n",
    "\n",
    "# Now create the probability mass function\n",
    "Y = binom.pmf(x,n,p)\n",
    "\n",
    "#Show\n",
    "Y\n",
    "\n",
    "# Next we'll visualize the pmf by plotting it."
   ]
  },
  {
   "cell_type": "code",
   "execution_count": 7,
   "metadata": {
    "collapsed": false
   },
   "outputs": [
    {
     "data": {
      "text/plain": [
       "<matplotlib.text.Text at 0x7fd81f6e2e50>"
      ]
     },
     "execution_count": 7,
     "metadata": {},
     "output_type": "execute_result"
    },
    {
     "data": {
      "image/png": "[encoded data removed]",
      "text/plain": [
       "<matplotlib.figure.Figure at 0x7fd81f71b9d0>"
      ]
     },
     "metadata": {},
     "output_type": "display_data"
    }
   ],
   "source": [
    "import matplotlib.pyplot as plt\n",
    "%matplotlib inline\n",
    "# For simple plots, matplotlib is fine, seaborn is unnecessary.\n",
    "\n",
    "# Now simply use plot\n",
    "plt.plot(x,Y,'o')\n",
    "\n",
    "#Title (use y=1.08 to raise the long title a little more above the plot)\n",
    "plt.title('Binomial Distribution PMF: 10 coin Flips, Odds of Success for Heads is p=0.5',y=1.08)\n",
    "\n",
    "#Axis Titles\n",
    "plt.xlabel('Number of Heads')\n",
    "plt.ylabel('Probability')"
   ]
  },
  {
   "cell_type": "code",
   "execution_count": null,
   "metadata": {
    "collapsed": true
   },
   "outputs": [],
   "source": []
  }
 ],
 "metadata": {
  "kernelspec": {
   "display_name": "Python 2",
   "language": "python",
   "name": "python2"
  },
  "language_info": {
   "codemirror_mode": {
    "name": "ipython",
    "version": 2
   },
   "file_extension": ".py",
   "mimetype": "text/x-python",
   "name": "python",
   "nbconvert_exporter": "python",
   "pygments_lexer": "ipython2",
   "version": "2.7.10"
  }
 },
 "nbformat": 4,
 "nbformat_minor": 0
}
