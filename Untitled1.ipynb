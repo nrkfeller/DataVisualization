{
 "cells": [
  {
   "cell_type": "code",
   "execution_count": 18,
   "metadata": {
    "collapsed": true
   },
   "outputs": [],
   "source": [
    "stringer = \"fyudgfvsudyf/avkfsdgfv/vsdfvgkgvdsfgv\""
   ]
  },
  {
   "cell_type": "code",
   "execution_count": 20,
   "metadata": {
    "collapsed": false
   },
   "outputs": [
    {
     "name": "stdout",
     "output_type": "stream",
     "text": [
      "True\n",
      "F\n",
      "True\n",
      "Y\n",
      "True\n",
      "U\n",
      "True\n",
      "D\n",
      "True\n",
      "G\n",
      "True\n",
      "F\n",
      "True\n",
      "V\n",
      "True\n",
      "S\n",
      "True\n",
      "U\n",
      "True\n",
      "D\n",
      "True\n",
      "Y\n",
      "True\n",
      "F\n",
      "True\n",
      "/\n",
      "True\n",
      "A\n",
      "True\n",
      "V\n",
      "True\n",
      "K\n",
      "True\n",
      "F\n",
      "True\n",
      "S\n",
      "True\n",
      "D\n",
      "True\n",
      "G\n",
      "True\n",
      "F\n",
      "True\n",
      "V\n",
      "True\n",
      "/\n",
      "True\n",
      "V\n",
      "True\n",
      "S\n",
      "True\n",
      "D\n",
      "True\n",
      "F\n",
      "True\n",
      "V\n",
      "True\n",
      "G\n",
      "True\n",
      "K\n",
      "True\n",
      "G\n",
      "True\n",
      "V\n",
      "True\n",
      "D\n",
      "True\n",
      "S\n",
      "True\n",
      "F\n",
      "True\n",
      "G\n",
      "True\n",
      "V\n"
     ]
    }
   ],
   "source": [
    "#toggler = True\n",
    "for i in stringer:\n",
    "    if i == \"/\":\n",
    "        not toggler\n",
    "    print toggler\n",
    "    if (toggler):\n",
    "        print i.upper()\n",
    "    else:\n",
    "        print i\n",
    "        "
   ]
  },
  {
   "cell_type": "code",
   "execution_count": null,
   "metadata": {
    "collapsed": true
   },
   "outputs": [],
   "source": []
  }
 ],
 "metadata": {
  "kernelspec": {
   "display_name": "Python 2",
   "language": "python",
   "name": "python2"
  },
  "language_info": {
   "codemirror_mode": {
    "name": "ipython",
    "version": 2
   },
   "file_extension": ".py",
   "mimetype": "text/x-python",
   "name": "python",
   "nbconvert_exporter": "python",
   "pygments_lexer": "ipython2",
   "version": "2.7.10"
  }
 },
 "nbformat": 4,
 "nbformat_minor": 0
}
